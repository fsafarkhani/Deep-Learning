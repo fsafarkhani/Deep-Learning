{
  "cells": [
    {
      "cell_type": "markdown",
      "id": "korean-wednesday",
      "metadata": {
        "id": "korean-wednesday"
      },
      "source": [
        "# Convolutional Neural Networks\n",
        "You should build an end-to-end machine learning pipeline using a convolutional neural network model. In particular, you should do the following:\n",
        "- Load the `mnist` dataset using [Pandas](https://pandas.pydata.org/docs/reference/api/pandas.read_csv.html). You can find this dataset in the datasets folder.\n",
        "- Split the dataset into training and test sets using [Scikit-Learn](https://scikit-learn.org/stable/modules/generated/sklearn.model_selection.train_test_split.html).\n",
        "- Build an end-to-end machine learning pipeline, including a [convolutional neural network](https://keras.io/examples/vision/mnist_convnet/) model.\n",
        "- Optimize your pipeline by validating your design decisions.\n",
        "- Test the best pipeline on the test set and report various [evaluation metrics](https://scikit-learn.org/0.15/modules/model_evaluation.html).  \n",
        "- Check the documentation to identify the most important hyperparameters, attributes, and methods of the model. Use them in practice."
      ]
    },
    {
      "cell_type": "code",
      "execution_count": 5,
      "id": "infrared-copper",
      "metadata": {
        "id": "infrared-copper"
      },
      "outputs": [],
      "source": [
        "import pandas as pd\n",
        "from sklearn.model_selection import train_test_split\n"
      ]
    },
    {
      "cell_type": "code",
      "source": [
        "df = df.drop(columns=['id'])\n"
      ],
      "metadata": {
        "id": "1deBY4phSJh7"
      },
      "id": "1deBY4phSJh7",
      "execution_count": 11,
      "outputs": []
    },
    {
      "cell_type": "code",
      "source": [
        "\n",
        "X = df.drop('class', axis=1).values.reshape(-1, 28, 28, 1) / 255.0  # normalize & reshape\n",
        "y = df['class'].values\n",
        "\n",
        "X_train, X_test, y_train, y_test = train_test_split(X, y, test_size=0.2, random_state=42, stratify=y)\n"
      ],
      "metadata": {
        "id": "AwnZpA8qSRiE"
      },
      "id": "AwnZpA8qSRiE",
      "execution_count": 12,
      "outputs": []
    },
    {
      "cell_type": "code",
      "source": [
        "import tensorflow as tf\n",
        "from tensorflow.keras.models import Sequential\n",
        "from tensorflow.keras.layers import Conv2D, MaxPooling2D, Flatten, Dense, Dropout\n",
        "\n",
        "def create_model():\n",
        "    model = Sequential([\n",
        "        Conv2D(32, (3,3), activation='relu', input_shape=(28,28,1)),\n",
        "        MaxPooling2D(2,2),\n",
        "        Conv2D(64, (3,3), activation='relu'),\n",
        "        MaxPooling2D(2,2),\n",
        "        Flatten(),\n",
        "        Dropout(0.5),\n",
        "        Dense(128, activation='relu'),\n",
        "        Dense(10, activation='softmax')  # 10 output classes\n",
        "    ])\n",
        "    model.compile(optimizer='adam', loss='sparse_categorical_crossentropy', metrics=['accuracy'])\n",
        "    return model\n",
        "\n",
        "model = create_model()\n"
      ],
      "metadata": {
        "id": "g4xQN5FmS2fh",
        "outputId": "54f9ed77-d938-476b-8508-dd3c7692caa0",
        "colab": {
          "base_uri": "https://localhost:8080/"
        }
      },
      "id": "g4xQN5FmS2fh",
      "execution_count": 13,
      "outputs": [
        {
          "output_type": "stream",
          "name": "stderr",
          "text": [
            "/usr/local/lib/python3.11/dist-packages/keras/src/layers/convolutional/base_conv.py:107: UserWarning: Do not pass an `input_shape`/`input_dim` argument to a layer. When using Sequential models, prefer using an `Input(shape)` object as the first layer in the model instead.\n",
            "  super().__init__(activity_regularizer=activity_regularizer, **kwargs)\n"
          ]
        }
      ]
    },
    {
      "cell_type": "code",
      "source": [
        "history = model.fit(X_train, y_train, epochs=10, validation_split=0.1, batch_size=64)\n"
      ],
      "metadata": {
        "id": "tNBxFOxJS6iC",
        "outputId": "0d042ba4-f119-45b4-b018-11ab7e7000dc",
        "colab": {
          "base_uri": "https://localhost:8080/"
        }
      },
      "id": "tNBxFOxJS6iC",
      "execution_count": 14,
      "outputs": [
        {
          "output_type": "stream",
          "name": "stdout",
          "text": [
            "Epoch 1/10\n",
            "\u001b[1m45/45\u001b[0m \u001b[32m━━━━━━━━━━━━━━━━━━━━\u001b[0m\u001b[37m\u001b[0m \u001b[1m5s\u001b[0m 58ms/step - accuracy: 0.3880 - loss: 1.8128 - val_accuracy: 0.9000 - val_loss: 0.3494\n",
            "Epoch 2/10\n",
            "\u001b[1m45/45\u001b[0m \u001b[32m━━━━━━━━━━━━━━━━━━━━\u001b[0m\u001b[37m\u001b[0m \u001b[1m5s\u001b[0m 53ms/step - accuracy: 0.8873 - loss: 0.3685 - val_accuracy: 0.9312 - val_loss: 0.2021\n",
            "Epoch 3/10\n",
            "\u001b[1m45/45\u001b[0m \u001b[32m━━━━━━━━━━━━━━━━━━━━\u001b[0m\u001b[37m\u001b[0m \u001b[1m2s\u001b[0m 51ms/step - accuracy: 0.9353 - loss: 0.2099 - val_accuracy: 0.9531 - val_loss: 0.1531\n",
            "Epoch 4/10\n",
            "\u001b[1m45/45\u001b[0m \u001b[32m━━━━━━━━━━━━━━━━━━━━\u001b[0m\u001b[37m\u001b[0m \u001b[1m4s\u001b[0m 80ms/step - accuracy: 0.9422 - loss: 0.1794 - val_accuracy: 0.9625 - val_loss: 0.1138\n",
            "Epoch 5/10\n",
            "\u001b[1m45/45\u001b[0m \u001b[32m━━━━━━━━━━━━━━━━━━━━\u001b[0m\u001b[37m\u001b[0m \u001b[1m4s\u001b[0m 52ms/step - accuracy: 0.9556 - loss: 0.1276 - val_accuracy: 0.9625 - val_loss: 0.1056\n",
            "Epoch 6/10\n",
            "\u001b[1m45/45\u001b[0m \u001b[32m━━━━━━━━━━━━━━━━━━━━\u001b[0m\u001b[37m\u001b[0m \u001b[1m2s\u001b[0m 50ms/step - accuracy: 0.9627 - loss: 0.1033 - val_accuracy: 0.9719 - val_loss: 0.0920\n",
            "Epoch 7/10\n",
            "\u001b[1m45/45\u001b[0m \u001b[32m━━━━━━━━━━━━━━━━━━━━\u001b[0m\u001b[37m\u001b[0m \u001b[1m2s\u001b[0m 51ms/step - accuracy: 0.9794 - loss: 0.0724 - val_accuracy: 0.9719 - val_loss: 0.0902\n",
            "Epoch 8/10\n",
            "\u001b[1m45/45\u001b[0m \u001b[32m━━━━━━━━━━━━━━━━━━━━\u001b[0m\u001b[37m\u001b[0m \u001b[1m3s\u001b[0m 70ms/step - accuracy: 0.9729 - loss: 0.0771 - val_accuracy: 0.9750 - val_loss: 0.0872\n",
            "Epoch 9/10\n",
            "\u001b[1m45/45\u001b[0m \u001b[32m━━━━━━━━━━━━━━━━━━━━\u001b[0m\u001b[37m\u001b[0m \u001b[1m3s\u001b[0m 60ms/step - accuracy: 0.9703 - loss: 0.0832 - val_accuracy: 0.9750 - val_loss: 0.0775\n",
            "Epoch 10/10\n",
            "\u001b[1m45/45\u001b[0m \u001b[32m━━━━━━━━━━━━━━━━━━━━\u001b[0m\u001b[37m\u001b[0m \u001b[1m2s\u001b[0m 51ms/step - accuracy: 0.9825 - loss: 0.0628 - val_accuracy: 0.9781 - val_loss: 0.0693\n"
          ]
        }
      ]
    },
    {
      "cell_type": "code",
      "source": [
        "from sklearn.metrics import classification_report, confusion_matrix\n",
        "import numpy as np\n",
        "\n",
        "# Evaluate on test set\n",
        "test_loss, test_acc = model.evaluate(X_test, y_test)\n",
        "print(f\"Test Accuracy: {test_acc:.4f}\")\n",
        "\n",
        "# Predict and report metrics\n",
        "y_pred = np.argmax(model.predict(X_test), axis=1)\n",
        "print(classification_report(y_test, y_pred))\n"
      ],
      "metadata": {
        "id": "TGm6q6NXTR98",
        "outputId": "d25225d8-e77e-4702-bec0-b2f183430163",
        "colab": {
          "base_uri": "https://localhost:8080/"
        }
      },
      "id": "TGm6q6NXTR98",
      "execution_count": 15,
      "outputs": [
        {
          "output_type": "stream",
          "name": "stdout",
          "text": [
            "\u001b[1m25/25\u001b[0m \u001b[32m━━━━━━━━━━━━━━━━━━━━\u001b[0m\u001b[37m\u001b[0m \u001b[1m0s\u001b[0m 9ms/step - accuracy: 0.9715 - loss: 0.1383\n",
            "Test Accuracy: 0.9688\n",
            "\u001b[1m25/25\u001b[0m \u001b[32m━━━━━━━━━━━━━━━━━━━━\u001b[0m\u001b[37m\u001b[0m \u001b[1m0s\u001b[0m 9ms/step\n",
            "              precision    recall  f1-score   support\n",
            "\n",
            "           0       0.97      1.00      0.99        75\n",
            "           1       0.98      1.00      0.99        97\n",
            "           2       0.96      0.96      0.96        78\n",
            "           3       1.00      0.92      0.96        84\n",
            "           4       0.94      0.99      0.96        74\n",
            "           5       0.95      0.97      0.96        73\n",
            "           6       0.99      1.00      0.99        78\n",
            "           7       0.96      0.96      0.96        85\n",
            "           8       0.95      0.96      0.96        83\n",
            "           9       0.99      0.92      0.95        73\n",
            "\n",
            "    accuracy                           0.97       800\n",
            "   macro avg       0.97      0.97      0.97       800\n",
            "weighted avg       0.97      0.97      0.97       800\n",
            "\n"
          ]
        }
      ]
    }
  ],
  "metadata": {
    "kernelspec": {
      "display_name": "Python 3",
      "language": "python",
      "name": "python3"
    },
    "language_info": {
      "codemirror_mode": {
        "name": "ipython",
        "version": 3
      },
      "file_extension": ".py",
      "mimetype": "text/x-python",
      "name": "python",
      "nbconvert_exporter": "python",
      "pygments_lexer": "ipython3",
      "version": "3.8.5"
    },
    "colab": {
      "provenance": []
    }
  },
  "nbformat": 4,
  "nbformat_minor": 5
}